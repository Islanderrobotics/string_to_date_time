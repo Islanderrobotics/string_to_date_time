{
 "cells": [
  {
   "cell_type": "markdown",
   "metadata": {
    "collapsed": true,
    "pycharm": {
     "name": "#%% md\n"
    }
   },
   "source": [
    "# String to Datetime\n",
    "Good AI morning, Islanders today I will be showing u all how to take a string and convert it to DateTime so that our artificial intelligent models can probably understand the column. So sit back relax with your favorite snack and let’s get started!\n",
    "\n",
    "Hey Islanders, welcome to another awesome tutorial, where today I will be showing you all this really awesome dataset. I believe this dataset is really awesome due to how two of the columns. within these two columns, there are two different types of potential date-time columns. they are going to see intimidating at first but don’t worry this video is going to make ai more accessible. For you Islanders who are new, my name is William Mckeon. I started my college carer as an electrical engineer student who struggled a lot in my electrical engineering courses. Somehow during that struggle, I managed to teach myself how to program in python and eventually how to develop Artificial intelligence models. Inevitably I changed majors turning to the dark side of computer science.\n",
    "\n",
    "## The packages and dataset we will be using\n",
    "\n",
    "Before we can actually start converting strings to DateTime formate we will need to import a couple of python packages and the dataset we will be using."
   ]
  },
  {
   "cell_type": "code",
   "execution_count": 8,
   "outputs": [],
   "source": [
    "import pandas as pd\n",
    "import irdatacleaning\n",
    "data = pd.read_csv(\"travel_times.csv\")"
   ],
   "metadata": {
    "collapsed": false,
    "pycharm": {
     "name": "#%%\n"
    }
   }
  },
  {
   "cell_type": "markdown",
   "source": [
    "The packages we will be using will be of course our channels favorite the panda's python package, as well as the communities python package irdatacleaning. The dataset we will be working with today is called the travel_time.csv dataset. This is a really cool dataset to use, before we can do anything with the converting strings to DateTime we need to do a few steps."
   ],
   "metadata": {
    "collapsed": false,
    "pycharm": {
     "name": "#%% md\n"
    }
   }
  },
  {
   "cell_type": "markdown",
   "source": [
    "## Starting to get into the data\n",
    "\n",
    "For starters like always before we start to make a model we will need to do some data discovery, like using"
   ],
   "metadata": {
    "collapsed": false,
    "pycharm": {
     "name": "#%% md\n"
    }
   }
  },
  {
   "cell_type": "code",
   "execution_count": 9,
   "outputs": [
    {
     "data": {
      "text/plain": "   Unnamed: 0      Date StartTime  DayOfWeek GoingTo Distance  MaxSpeed  \\\n0           0  1/6/2012     16:37     Friday    Home    51.29     127.4   \n1           1  1/6/2012     08:20     Friday     GSK    51.63     130.3   \n2           2  1/4/2012     16:17  Wednesday    Home    51.27     127.4   \n3           3  1/4/2012     07:53  Wednesday     GSK    49.17     132.3   \n4           4  1/3/2012     18:57    Tuesday    Home    51.15     136.2   \n\n   AvgSpeed AvgMovingSpeed FuelEconomy  TotalTime  MovingTime Take407All  \\\n0       NaN           84.8         NaN       39.3        36.3         No   \n1      81.8           88.9         NaN       37.9        34.9         No   \n2      82.0           85.8         NaN       37.5        35.9         No   \n3      74.2           82.9         NaN       39.8        35.6         No   \n4      83.4           88.1         NaN       36.8        34.8         No   \n\n  Comments  \n0      NaN  \n1      NaN  \n2      NaN  \n3      NaN  \n4      NaN  ",
      "text/html": "<div>\n<style scoped>\n    .dataframe tbody tr th:only-of-type {\n        vertical-align: middle;\n    }\n\n    .dataframe tbody tr th {\n        vertical-align: top;\n    }\n\n    .dataframe thead th {\n        text-align: right;\n    }\n</style>\n<table border=\"1\" class=\"dataframe\">\n  <thead>\n    <tr style=\"text-align: right;\">\n      <th></th>\n      <th>Unnamed: 0</th>\n      <th>Date</th>\n      <th>StartTime</th>\n      <th>DayOfWeek</th>\n      <th>GoingTo</th>\n      <th>Distance</th>\n      <th>MaxSpeed</th>\n      <th>AvgSpeed</th>\n      <th>AvgMovingSpeed</th>\n      <th>FuelEconomy</th>\n      <th>TotalTime</th>\n      <th>MovingTime</th>\n      <th>Take407All</th>\n      <th>Comments</th>\n    </tr>\n  </thead>\n  <tbody>\n    <tr>\n      <th>0</th>\n      <td>0</td>\n      <td>1/6/2012</td>\n      <td>16:37</td>\n      <td>Friday</td>\n      <td>Home</td>\n      <td>51.29</td>\n      <td>127.4</td>\n      <td>NaN</td>\n      <td>84.8</td>\n      <td>NaN</td>\n      <td>39.3</td>\n      <td>36.3</td>\n      <td>No</td>\n      <td>NaN</td>\n    </tr>\n    <tr>\n      <th>1</th>\n      <td>1</td>\n      <td>1/6/2012</td>\n      <td>08:20</td>\n      <td>Friday</td>\n      <td>GSK</td>\n      <td>51.63</td>\n      <td>130.3</td>\n      <td>81.8</td>\n      <td>88.9</td>\n      <td>NaN</td>\n      <td>37.9</td>\n      <td>34.9</td>\n      <td>No</td>\n      <td>NaN</td>\n    </tr>\n    <tr>\n      <th>2</th>\n      <td>2</td>\n      <td>1/4/2012</td>\n      <td>16:17</td>\n      <td>Wednesday</td>\n      <td>Home</td>\n      <td>51.27</td>\n      <td>127.4</td>\n      <td>82.0</td>\n      <td>85.8</td>\n      <td>NaN</td>\n      <td>37.5</td>\n      <td>35.9</td>\n      <td>No</td>\n      <td>NaN</td>\n    </tr>\n    <tr>\n      <th>3</th>\n      <td>3</td>\n      <td>1/4/2012</td>\n      <td>07:53</td>\n      <td>Wednesday</td>\n      <td>GSK</td>\n      <td>49.17</td>\n      <td>132.3</td>\n      <td>74.2</td>\n      <td>82.9</td>\n      <td>NaN</td>\n      <td>39.8</td>\n      <td>35.6</td>\n      <td>No</td>\n      <td>NaN</td>\n    </tr>\n    <tr>\n      <th>4</th>\n      <td>4</td>\n      <td>1/3/2012</td>\n      <td>18:57</td>\n      <td>Tuesday</td>\n      <td>Home</td>\n      <td>51.15</td>\n      <td>136.2</td>\n      <td>83.4</td>\n      <td>88.1</td>\n      <td>NaN</td>\n      <td>36.8</td>\n      <td>34.8</td>\n      <td>No</td>\n      <td>NaN</td>\n    </tr>\n  </tbody>\n</table>\n</div>"
     },
     "execution_count": 9,
     "metadata": {},
     "output_type": "execute_result"
    }
   ],
   "source": [
    "data.head()"
   ],
   "metadata": {
    "collapsed": false,
    "pycharm": {
     "name": "#%%\n"
    }
   }
  },
  {
   "cell_type": "markdown",
   "source": [
    "When you call this method it will show you the first few rows of all the columns of the dataset. This method will allow for you to see that this dataset has two columns that we humans can tell are supposed to represent time. That is not to say that our models will as well the easiest way to tell is to call,"
   ],
   "metadata": {
    "collapsed": false,
    "pycharm": {
     "name": "#%% md\n"
    }
   }
  },
  {
   "cell_type": "code",
   "execution_count": 2,
   "outputs": [
    {
     "name": "stdout",
     "output_type": "stream",
     "text": [
      "<class 'pandas.core.frame.DataFrame'>\n",
      "RangeIndex: 208 entries, 0 to 207\n",
      "Data columns (total 14 columns):\n",
      " #   Column          Non-Null Count  Dtype  \n",
      "---  ------          --------------  -----  \n",
      " 0   Unnamed: 0      208 non-null    int64  \n",
      " 1   Date            208 non-null    object \n",
      " 2   StartTime       208 non-null    object \n",
      " 3   DayOfWeek       206 non-null    object \n",
      " 4   GoingTo         208 non-null    object \n",
      " 5   Distance        206 non-null    object \n",
      " 6   MaxSpeed        208 non-null    float64\n",
      " 7   AvgSpeed        207 non-null    float64\n",
      " 8   AvgMovingSpeed  208 non-null    object \n",
      " 9   FuelEconomy     190 non-null    object \n",
      " 10  TotalTime       208 non-null    float64\n",
      " 11  MovingTime      208 non-null    float64\n",
      " 12  Take407All      208 non-null    object \n",
      " 13  Comments        24 non-null     object \n",
      "dtypes: float64(4), int64(1), object(9)\n",
      "memory usage: 22.9+ KB\n"
     ]
    }
   ],
   "source": [
    "data.info()"
   ],
   "metadata": {
    "collapsed": false,
    "pycharm": {
     "name": "#%%\n"
    }
   }
  },
  {
   "cell_type": "markdown",
   "source": [
    "when you call this method it will show you that our model will indead, not consider the Date, and StartTime columns to have time data within them. to change this we will only needed two lines of code."
   ],
   "metadata": {
    "collapsed": false,
    "pycharm": {
     "name": "#%% md\n"
    }
   }
  },
  {
   "cell_type": "markdown",
   "source": [
    "## creating an instance of the string to DateTime class\n",
    "To make the corrections to those two columns  we will need create a new instance of irdatacleaning more specificly, we will need to create a new instance of the StringToDateTime module within irdatacleaning, the line below will show you exactly how to create this new instance."
   ],
   "metadata": {
    "collapsed": false,
    "pycharm": {
     "name": "#%% md\n"
    }
   }
  },
  {
   "cell_type": "code",
   "execution_count": 3,
   "outputs": [],
   "source": [
    "datetime = irdatacleaning.StringToDateTime(data)"
   ],
   "metadata": {
    "collapsed": false,
    "pycharm": {
     "name": "#%%\n"
    }
   }
  },
  {
   "cell_type": "markdown",
   "source": [
    "the input argumnet you will enter will the dataset you are working with in our case our dataset is set equal to the data variable. something you Islanders need to keep in mind while using this module is that there is a list of strings being used to identify which columns needed to have the datetime formate corrections applied to them. to be able to view those strings you can call the line you see bellow"
   ],
   "metadata": {
    "collapsed": false,
    "pycharm": {
     "name": "#%% md\n"
    }
   }
  },
  {
   "cell_type": "code",
   "execution_count": 4,
   "outputs": [
    {
     "data": {
      "text/plain": "['date', 'dates', 'starttime', 'start_time', 'start time', 'day_of_week']"
     },
     "execution_count": 4,
     "metadata": {},
     "output_type": "execute_result"
    }
   ],
   "source": [
    "datetime.time_list"
   ],
   "metadata": {
    "collapsed": false,
    "pycharm": {
     "name": "#%%\n"
    }
   }
  },
  {
   "cell_type": "markdown",
   "source": [
    "this is not to say that you are restricted to only using this module with datasets that have columns that needed to have the datetime formate corrections applied them with only those names. you do have the power to add to this list and you can do this by,"
   ],
   "metadata": {
    "collapsed": false,
    "pycharm": {
     "name": "#%% md\n"
    }
   }
  },
  {
   "cell_type": "code",
   "execution_count": 10,
   "outputs": [],
   "source": [
    "datetime = irdatacleaning.StringToDateTime(data,[\"starting the day\"])"
   ],
   "metadata": {
    "collapsed": false,
    "pycharm": {
     "name": "#%%\n"
    }
   }
  },
  {
   "cell_type": "markdown",
   "source": [
    "the input argumnet of adding that string within that list even though the list only has a length of you. starting the day is now added to the list time_list with in the module, you can check this by running,"
   ],
   "metadata": {
    "collapsed": false,
    "pycharm": {
     "name": "#%% md\n"
    }
   }
  },
  {
   "cell_type": "code",
   "execution_count": 11,
   "outputs": [
    {
     "data": {
      "text/plain": "['date', 'dates', 'starttime', 'start_time', 'start time', 'starting the day']"
     },
     "execution_count": 11,
     "metadata": {},
     "output_type": "execute_result"
    }
   ],
   "source": [
    "datetime.time_list"
   ],
   "metadata": {
    "collapsed": false,
    "pycharm": {
     "name": "#%%\n"
    }
   }
  },
  {
   "cell_type": "markdown",
   "source": [
    "## check\n",
    "to tell the class to make the changes to the dataset all you have to do is,"
   ],
   "metadata": {
    "collapsed": false,
    "pycharm": {
     "name": "#%% md\n"
    }
   }
  },
  {
   "cell_type": "code",
   "execution_count": 5,
   "outputs": [],
   "source": [
    "data = datetime.check()"
   ],
   "metadata": {
    "collapsed": false,
    "pycharm": {
     "name": "#%%\n"
    }
   }
  },
  {
   "cell_type": "markdown",
   "source": [
    "by calling the check method you are telling the module that you want to now have the needed changes applied to the dataset. once the methof is done with the needed changes it will then return the corrected dataset. once the needed changes have been applied to the dataset we can check how well the module did by calling."
   ],
   "metadata": {
    "collapsed": false,
    "pycharm": {
     "name": "#%% md\n"
    }
   }
  },
  {
   "cell_type": "code",
   "execution_count": 6,
   "outputs": [
    {
     "name": "stdout",
     "output_type": "stream",
     "text": [
      "<class 'pandas.core.frame.DataFrame'>\n",
      "RangeIndex: 208 entries, 0 to 207\n",
      "Data columns (total 14 columns):\n",
      " #   Column          Non-Null Count  Dtype         \n",
      "---  ------          --------------  -----         \n",
      " 0   Unnamed: 0      208 non-null    int64         \n",
      " 1   Date            208 non-null    datetime64[ns]\n",
      " 2   StartTime       208 non-null    datetime64[ns]\n",
      " 3   DayOfWeek       206 non-null    object        \n",
      " 4   GoingTo         208 non-null    object        \n",
      " 5   Distance        206 non-null    object        \n",
      " 6   MaxSpeed        208 non-null    float64       \n",
      " 7   AvgSpeed        207 non-null    float64       \n",
      " 8   AvgMovingSpeed  208 non-null    object        \n",
      " 9   FuelEconomy     190 non-null    object        \n",
      " 10  TotalTime       208 non-null    float64       \n",
      " 11  MovingTime      208 non-null    float64       \n",
      " 12  Take407All      208 non-null    object        \n",
      " 13  Comments        24 non-null     object        \n",
      "dtypes: datetime64[ns](2), float64(4), int64(1), object(7)\n",
      "memory usage: 22.9+ KB\n"
     ]
    }
   ],
   "source": [
    "data.info()"
   ],
   "metadata": {
    "collapsed": false,
    "pycharm": {
     "name": "#%%\n"
    }
   }
  },
  {
   "cell_type": "markdown",
   "source": [
    "## More Resources\n",
    "we did it we where able to make the necessary corrections to our dataset so that our model will now vew those two columns as time instead of objects. dont worry about remembering everything that just went on you can always call the line you see bellow."
   ],
   "metadata": {
    "collapsed": false,
    "pycharm": {
     "name": "#%% md\n"
    }
   }
  },
  {
   "cell_type": "code",
   "execution_count": 7,
   "outputs": [
    {
     "name": "stdout",
     "output_type": "stream",
     "text": [
      "the link for youtube is https://youtu.be/j5m9UgnP5bU\n",
      "the link for github is https://github.com/Islanderrobotics/string_to_date_time\n"
     ]
    }
   ],
   "source": [
    "datetime.resource()"
   ],
   "metadata": {
    "collapsed": false,
    "pycharm": {
     "name": "#%%\n"
    }
   }
  },
  {
   "cell_type": "markdown",
   "source": [
    "this method will print to the screen two links the link to the youtube video, as well as the github reposotory. allowing you to be able to reffer back to those two links when ever you run into trouble."
   ],
   "metadata": {
    "collapsed": false,
    "pycharm": {
     "name": "#%% md\n"
    }
   }
  },
  {
   "cell_type": "markdown",
   "source": [
    "for those of you who dont have the python package you can install irdatacleaning by entering either the pip or conda command bellow. As always happy coding and I will see you in the next one."
   ],
   "metadata": {
    "collapsed": false,
    "pycharm": {
     "name": "#%% md\n"
    }
   }
  }
 ],
 "metadata": {
  "kernelspec": {
   "display_name": "Python 3",
   "language": "python",
   "name": "python3"
  },
  "language_info": {
   "codemirror_mode": {
    "name": "ipython",
    "version": 2
   },
   "file_extension": ".py",
   "mimetype": "text/x-python",
   "name": "python",
   "nbconvert_exporter": "python",
   "pygments_lexer": "ipython2",
   "version": "2.7.6"
  }
 },
 "nbformat": 4,
 "nbformat_minor": 0
}